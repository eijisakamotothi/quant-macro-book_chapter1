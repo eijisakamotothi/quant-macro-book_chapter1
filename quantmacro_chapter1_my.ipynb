{
 "cells": [
  {
   "cell_type": "code",
   "execution_count": 2,
   "metadata": {},
   "outputs": [
    {
     "name": "stdout",
     "output_type": "stream",
     "text": [
      "  0.102819 seconds (27 allocations: 1.141 KiB, 1.61% compilation time)\n"
     ]
    }
   ],
   "source": [
    "c = 2\n",
    "@time for i = 1:10000000\n",
    "    ans = 5^c\n",
    "end"
   ]
  },
  {
   "cell_type": "code",
   "execution_count": 3,
   "metadata": {},
   "outputs": [
    {
     "name": "stdout",
     "output_type": "stream",
     "text": [
      "  0.152845 seconds (10.00 M allocations: 152.635 MiB, 8.34% gc time, 1.52% compilation time)\n"
     ]
    }
   ],
   "source": [
    "d = 2.0\n",
    "@time for i = 1:10000000\n",
    "    ans = 5^d\n",
    "end"
   ]
  },
  {
   "cell_type": "code",
   "execution_count": 4,
   "metadata": {},
   "outputs": [
    {
     "name": "stdout",
     "output_type": "stream",
     "text": [
      "  0.000000 seconds\n"
     ]
    }
   ],
   "source": [
    "c = 2\n",
    "@time for i = 1:10000000\n",
    "    ans = 5^2\n",
    "end"
   ]
  },
  {
   "cell_type": "code",
   "execution_count": 5,
   "metadata": {},
   "outputs": [
    {
     "name": "stdout",
     "output_type": "stream",
     "text": [
      "  0.321222 seconds (10.00 M allocations: 152.580 MiB, 23.28% gc time)\n"
     ]
    }
   ],
   "source": [
    "c = 2\n",
    "num_len = 10000000\n",
    "tmp = zeros(Int64, num_len)\n",
    "@time for i = 1:10000000\n",
    "    tmp[i] = 5^c\n",
    "end"
   ]
  },
  {
   "cell_type": "code",
   "execution_count": 6,
   "metadata": {},
   "outputs": [
    {
     "name": "stdout",
     "output_type": "stream",
     "text": [
      "  0.334718 seconds (20.00 M allocations: 305.345 MiB, 16.98% gc time, 1.11% compilation time)\n"
     ]
    }
   ],
   "source": [
    "d = 2.0\n",
    "num_len = 10000000\n",
    "tmp = zeros(Int64, num_len)\n",
    "@time for i = 1:10000000\n",
    "    tmp[i] = 5^d\n",
    "end"
   ]
  },
  {
   "cell_type": "code",
   "execution_count": 7,
   "metadata": {},
   "outputs": [
    {
     "name": "stdout",
     "output_type": "stream",
     "text": [
      "  0.188175 seconds (10.00 M allocations: 152.580 MiB, 30.30% gc time)\n"
     ]
    }
   ],
   "source": [
    "d = 2.0\n",
    "num_len = 10000000\n",
    "tmp = zeros(Int64, num_len)\n",
    "@time for i = 1:10000000\n",
    "    tmp[i] = 5^2\n",
    "end"
   ]
  },
  {
   "cell_type": "code",
   "execution_count": 12,
   "metadata": {},
   "outputs": [
    {
     "data": {
      "text/plain": [
       "1.1102230246251565"
      ]
     },
     "metadata": {},
     "output_type": "display_data"
    }
   ],
   "source": [
    "x = 0.000000000000001\n",
    "((1+x) - 1)/x"
   ]
  },
  {
   "cell_type": "code",
   "execution_count": null,
   "metadata": {},
   "outputs": [],
   "source": []
  }
 ],
 "metadata": {
  "kernelspec": {
   "display_name": "Julia 1.11.2",
   "language": "julia",
   "name": "julia-1.11"
  },
  "language_info": {
   "file_extension": ".jl",
   "mimetype": "application/julia",
   "name": "julia",
   "version": "1.11.2"
  }
 },
 "nbformat": 4,
 "nbformat_minor": 2
}
