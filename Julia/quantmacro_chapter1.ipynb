{
 "cells": [
  {
   "cell_type": "markdown",
   "id": "a90f5fbe-a3f8-439e-9032-b66801863334",
   "metadata": {},
   "source": [
    "# 北尾早霧・砂川武貴・山田知明『定量的マクロ経済学と数値計算』日本評論社\n",
    "## 第１章：数値計算ことはじめ\n",
    "* こちらのNotebookではJuliaの基本的な知識と関連付けて、数値計算誤差について説明をしています。\n",
    "    * 数値計算誤差についてはテキストの1.7節を参照してください。"
   ]
  },
  {
   "cell_type": "markdown",
   "id": "cc2fb62f-8335-47bb-9a18-1ff5facd93a6",
   "metadata": {},
   "source": [
    "---"
   ]
  },
  {
   "cell_type": "markdown",
   "id": "4e4726c7-9369-4874-b2b1-af5f094b09a7",
   "metadata": {},
   "source": [
    "* 本Notebookを作成した際の環境は以下の通りです。\n",
    "* 計算速度などについては使用するPCによって違いがあります。\n",
    "* また、Juliaのバージョンによって、多少コマンドに違いがある可能性があります。\n",
    "    * 特別な関数は使っていないはずですが。"
   ]
  },
  {
   "cell_type": "code",
   "execution_count": 1,
   "id": "d13c0ffd-1e3c-4a3e-8f37-f38bf66d728a",
   "metadata": {},
   "outputs": [
    {
     "name": "stdout",
     "output_type": "stream",
     "text": [
      "Julia Version 1.7.3\n",
      "Commit 742b9abb4d (2022-05-06 12:58 UTC)\n",
      "Platform Info:\n",
      "  OS: macOS (x86_64-apple-darwin21.4.0)\n",
      "  CPU: Intel(R) Core(TM) i7-8569U CPU @ 2.80GHz\n",
      "  WORD_SIZE: 64\n",
      "  LIBM: libopenlibm\n",
      "  LLVM: libLLVM-12.0.1 (ORCJIT, skylake)\n"
     ]
    }
   ],
   "source": [
    "versioninfo()"
   ]
  },
  {
   "cell_type": "markdown",
   "id": "3fb90e8f-3255-4245-8a31-1ca6b3280a5f",
   "metadata": {},
   "source": [
    "---"
   ]
  },
  {
   "cell_type": "markdown",
   "id": "7663b6af-4ea3-4668-8554-8c356085c8fe",
   "metadata": {},
   "source": [
    "## Juliaにおける型(Type)\n",
    "- Juliaは**動的型付け (dynamic typing)** の言語なので変数の**型（type）**を気にする必要は基本的にはない\n",
    "- 型とはなにか?\n",
    "    - 例えば、コンピュータ上は3と3.0は別物として区別する\n",
    "    - 前者は**整数 (Integer)** で後者は**浮動小数点 (Floating Point Number: Float)** と呼ばれる\n",
    "    - MatlabやJulia、Pythonなど(動的型付けの言語)ではあまり深く考えなくても、多くの場合、直感的に処理をしてくれる\n",
    "        - 例1：3 + 3.0 = 6.0\n",
    "        - 例2：2 + 2.1 = 4.1\n",
    "        - ただし**常に**自分の思っているとおりに処理してくれるとは限らないかも\n",
    "    - C言語やFortranなどの**静的型付け (static typing)** の言語では必ず事前に変数の型を決めておく必要がある(**宣言**)\n",
    "        - integer a = 3 ←整数として変数aを定義\n",
    "        - float b = 3.0 ←浮動小数点として変数bを定義\n",
    "        - ⬆はイメージで実際のFortranやC言語の記法ではない\n",
    "    - a + bを計算しようとすると「型が違う！」と怒られる\n",
    "    - 浮動小数点とは何かをしっかり学びたい場合、例えばクアルテローニ他(2014)の第1章を参照\n",
    "- 加えて、コンピュータでは数字の表現の仕方(**2進法**)によって、表示できる桁数に違いがある\n",
    "    - 8ビット、16ビット、32ビット、64ビットで最大桁数が異なる\n",
    "        - 初代のファミコンは8ビット、スーパーファミコンは16ビット、プレイステーションは32ビットとだんだん性能が上がっていった！\n",
    "    - それぞれInt32、Int64、Float64みたいな感じで表現される\n",
    "- Juliaではデフォルトで64ビットになる：⬇を参照\n",
    "    - かなり古いPCを使っている場合この限りではないが、めったにいないはず\n",
    "- Juliaでは整数+浮動小数点は浮動小数点に揃えてくれる\n",
    "    - 掛け算や割り算なども自動で調整してくれるけど、ちゃんとルールを把握しないで異なる型同士の演算は**避けたほうが無難**"
   ]
  },
  {
   "cell_type": "code",
   "execution_count": 1,
   "id": "f0f191bc-13d9-4d38-9434-3bfcf3121e87",
   "metadata": {},
   "outputs": [
    {
     "data": {
      "text/plain": [
       "3"
      ]
     },
     "execution_count": 1,
     "metadata": {},
     "output_type": "execute_result"
    }
   ],
   "source": [
    "# 整数\n",
    "a = 3"
   ]
  },
  {
   "cell_type": "code",
   "execution_count": 2,
   "id": "94a58ad6-b772-4031-87ce-8d6c72057280",
   "metadata": {},
   "outputs": [
    {
     "data": {
      "text/plain": [
       "Int64"
      ]
     },
     "execution_count": 2,
     "metadata": {},
     "output_type": "execute_result"
    }
   ],
   "source": [
    "# 型を確認する\n",
    "typeof(a)"
   ]
  },
  {
   "cell_type": "code",
   "execution_count": 3,
   "id": "83cc738d-39d5-4661-b531-18cc3187bd9d",
   "metadata": {},
   "outputs": [
    {
     "data": {
      "text/plain": [
       "3.0"
      ]
     },
     "execution_count": 3,
     "metadata": {},
     "output_type": "execute_result"
    }
   ],
   "source": [
    "# 浮動小数点\n",
    "b = 3.0"
   ]
  },
  {
   "cell_type": "code",
   "execution_count": 4,
   "id": "0f104e60-9e7d-4df3-a6a0-1f146e685aa4",
   "metadata": {},
   "outputs": [
    {
     "data": {
      "text/plain": [
       "Float64"
      ]
     },
     "execution_count": 4,
     "metadata": {},
     "output_type": "execute_result"
    }
   ],
   "source": [
    "typeof(b)"
   ]
  },
  {
   "cell_type": "code",
   "execution_count": 5,
   "id": "5e324026-bb47-4ffe-95e5-5dbecaeb04b8",
   "metadata": {},
   "outputs": [
    {
     "data": {
      "text/plain": [
       "6.0"
      ]
     },
     "execution_count": 5,
     "metadata": {},
     "output_type": "execute_result"
    }
   ],
   "source": [
    "a + b"
   ]
  },
  {
   "cell_type": "code",
   "execution_count": 6,
   "id": "89b1a5ee-e63a-4697-bdb5-a7b0ea6b5e85",
   "metadata": {},
   "outputs": [
    {
     "data": {
      "text/plain": [
       "Float64"
      ]
     },
     "execution_count": 6,
     "metadata": {},
     "output_type": "execute_result"
    }
   ],
   "source": [
    "typeof(a + b)"
   ]
  },
  {
   "cell_type": "markdown",
   "id": "f0a3e5af-fd75-4801-8781-b8a7b01fd3b6",
   "metadata": {},
   "source": [
    "---"
   ]
  },
  {
   "cell_type": "markdown",
   "id": "f02d889f-d59d-44f3-b9bf-9e63c2545262",
   "metadata": {},
   "source": [
    "## 例：整数と浮動小数点の違いを気にしなかった場合に問題が起こる事例\n",
    "- べき乗の計算では整数を使うか、浮動小数点を使うかで計算速度が変わる\n",
    "- 例：5の2乗と5の2.0乗は計算速度が異なる\n",
    "    - 当然、数学上は全く同じ\n",
    "    - コンピュータ上の計算処理の仕方が異なるため\n",
    "    - 3倍程度、計算速度が遅くなっている"
   ]
  },
  {
   "cell_type": "code",
   "execution_count": 7,
   "id": "49f49cf8-f905-40d2-a01f-2573298bcd00",
   "metadata": {},
   "outputs": [
    {
     "data": {
      "text/plain": [
       "2"
      ]
     },
     "execution_count": 7,
     "metadata": {},
     "output_type": "execute_result"
    }
   ],
   "source": [
    "c = 2"
   ]
  },
  {
   "cell_type": "code",
   "execution_count": 8,
   "id": "a625ca88-ec5c-4895-a995-e3f07fb2496f",
   "metadata": {},
   "outputs": [
    {
     "data": {
      "text/plain": [
       "2.0"
      ]
     },
     "execution_count": 8,
     "metadata": {},
     "output_type": "execute_result"
    }
   ],
   "source": [
    "d = 2.0"
   ]
  },
  {
   "cell_type": "markdown",
   "id": "9ba62329-5ed8-415a-8555-bafb78bcc457",
   "metadata": {},
   "source": [
    "* ループ(繰り返し計算)についてはまた後ほど説明予定\n",
    "* @timeは計算速度を計測してくれる**マクロ**"
   ]
  },
  {
   "cell_type": "code",
   "execution_count": 9,
   "id": "fc1c5258-2e5b-42ee-8138-4f003304263c",
   "metadata": {},
   "outputs": [
    {
     "name": "stdout",
     "output_type": "stream",
     "text": [
      "  0.139026 seconds (15 allocations: 864 bytes, 1.66% compilation time)\n"
     ]
    }
   ],
   "source": [
    "# 5の2乗を1000万回計算してみる\n",
    "@time for i = 1:10000000\n",
    "    ans = 5^c\n",
    "end"
   ]
  },
  {
   "cell_type": "code",
   "execution_count": 10,
   "id": "6347248d-4829-42cf-a661-65c49840924e",
   "metadata": {},
   "outputs": [
    {
     "name": "stdout",
     "output_type": "stream",
     "text": [
      "  0.399429 seconds (10.01 M allocations: 152.855 MiB, 4.58% gc time, 1.79% compilation time)\n"
     ]
    }
   ],
   "source": [
    "# 5の2.0乗を1000万回計算してみる：こちらのほうが遅い\n",
    "@time for i = 1:10000000\n",
    "    ans = 5^d\n",
    "end"
   ]
  },
  {
   "cell_type": "code",
   "execution_count": 11,
   "id": "3425565d-77b9-41d3-b34e-08bc548df765",
   "metadata": {},
   "outputs": [
    {
     "name": "stdout",
     "output_type": "stream",
     "text": [
      "  0.000001 seconds\n"
     ]
    }
   ],
   "source": [
    "# 直書きが一番はやい：なぜ?\n",
    "@time for i = 1:10000000\n",
    "    ans = 5^2\n",
    "end"
   ]
  },
  {
   "cell_type": "markdown",
   "id": "0417eea8-708b-49e7-86d8-cf1da7e97e22",
   "metadata": {},
   "source": [
    "---"
   ]
  },
  {
   "cell_type": "markdown",
   "id": "6adedf4b-fb3a-42ce-b70b-33986a8aefb8",
   "metadata": {
    "tags": []
   },
   "source": [
    "## Tips：書き方で計算速度が変わったりする\n",
    "- 変数(tmp)を事前に用意してそこに値を代入していく場合、**代入という行為そのもの**に計算時間がかかる\n",
    "    - tmpは1000万個の要素を持つ**配列(ベクトル)**\n",
    "- ⬆の例だと5の2乗を1000万回計算して、その結果はすべて捨てていた\n",
    "    - 途中の計算結果を取り出すことは出来ない\n",
    "- ⬇の２つの例の場合、変数の代入にかかる時間の方が影響が大きくて、「指数が整数か浮動小数点か」の影響は相対的に小さい事がわかる\n",
    "    - それでもわかっているのであれば、指数は整数で定義すべき\n",
    "- **注意**：計算速度自体は使っているPCのスペックに依存する"
   ]
  },
  {
   "cell_type": "code",
   "execution_count": 12,
   "id": "a8e2ff50-3728-4ba3-b320-0593bc7f21e6",
   "metadata": {},
   "outputs": [
    {
     "name": "stdout",
     "output_type": "stream",
     "text": [
      "  0.963350 seconds (30.00 M allocations: 610.336 MiB, 15.84% gc time)\n"
     ]
    }
   ],
   "source": [
    "# 5の2乗を1000万回計算してみる\n",
    "num_len = 10000000\n",
    "tmp = zeros(Int64, num_len) # 要素の数がnum_len個のベクトル(配列)を準備：中身はすべて0\n",
    "@time for i = 1:num_len\n",
    "    tmp[i] = 5^c\n",
    "end"
   ]
  },
  {
   "cell_type": "code",
   "execution_count": 13,
   "id": "0206ee2e-8bb5-4652-84c1-a20eb5ab4135",
   "metadata": {},
   "outputs": [
    {
     "name": "stdout",
     "output_type": "stream",
     "text": [
      "  1.102978 seconds (40.00 M allocations: 762.925 MiB, 5.23% gc time, 0.23% compilation time)\n"
     ]
    }
   ],
   "source": [
    "# 5の2.0乗を1000万回計算してみる\n",
    "num_len = 10000000\n",
    "tmp = zeros(num_len)\n",
    "@time for i = 1:num_len\n",
    "    tmp[i]= 5^d\n",
    "end"
   ]
  },
  {
   "cell_type": "code",
   "execution_count": 14,
   "id": "6bc25447-5315-4612-92e1-116c43c3d7ae",
   "metadata": {},
   "outputs": [
    {
     "name": "stdout",
     "output_type": "stream",
     "text": [
      "  0.854587 seconds (30.00 M allocations: 610.336 MiB, 21.61% gc time)\n"
     ]
    }
   ],
   "source": [
    "# やはり直書きが一番早い\n",
    "num_len = 10000000\n",
    "tmp = zeros(Int64, num_len) # 要素の数がnum_len個の配列\n",
    "@time for i = 1:num_len\n",
    "    tmp[i] = 5^2\n",
    "end"
   ]
  },
  {
   "cell_type": "markdown",
   "id": "da8faf69-f917-4f35-80d0-f2db83635098",
   "metadata": {},
   "source": [
    "---"
   ]
  },
  {
   "cell_type": "markdown",
   "id": "3ac1b7ac",
   "metadata": {},
   "source": [
    "## 型ごとに使える最大値・最小値\n",
    "- ビット数が大きい方が扱える数字の範囲が大きくなる\n",
    "    - 昔のゲームでHPの上限が255だったり、65535だったりした理由\n",
    "- 今のコンピュータの性能は大幅に上昇したけど、コンピュータは**無限**は扱えないので必ずどこかに上限・下限が存在している\n",
    "- よほどの事がないと超えることはないかも知れないけど、超えるとオーバーフロー(0に戻る)を起こしたりする\n",
    "    - 昔のゲームはこれでよくバグっていた\n",
    "    - 上限・下限を超えた場合に何が起こるのかは言語依存なので要注意\n",
    "        - 無限扱いになったり、マイナスになったり"
   ]
  },
  {
   "cell_type": "markdown",
   "id": "9e41fedb",
   "metadata": {},
   "source": [
    "### 整数の上限・下限を確認する"
   ]
  },
  {
   "cell_type": "code",
   "execution_count": 15,
   "id": "68a4698f",
   "metadata": {},
   "outputs": [
    {
     "data": {
      "text/plain": [
       "9223372036854775807"
      ]
     },
     "execution_count": 15,
     "metadata": {},
     "output_type": "execute_result"
    }
   ],
   "source": [
    "x1 = typemax(Int64)"
   ]
  },
  {
   "cell_type": "code",
   "execution_count": 16,
   "id": "15691525",
   "metadata": {},
   "outputs": [
    {
     "data": {
      "text/plain": [
       "2147483647"
      ]
     },
     "execution_count": 16,
     "metadata": {},
     "output_type": "execute_result"
    }
   ],
   "source": [
    "x2 = typemax(Int32)"
   ]
  },
  {
   "cell_type": "code",
   "execution_count": 17,
   "id": "ea48637f",
   "metadata": {},
   "outputs": [
    {
     "data": {
      "text/plain": [
       "-9223372036854775808"
      ]
     },
     "execution_count": 17,
     "metadata": {},
     "output_type": "execute_result"
    }
   ],
   "source": [
    "x3 = typemin(Int64)"
   ]
  },
  {
   "cell_type": "code",
   "execution_count": 18,
   "id": "70e296a6",
   "metadata": {},
   "outputs": [
    {
     "data": {
      "text/plain": [
       "-2147483648"
      ]
     },
     "execution_count": 18,
     "metadata": {},
     "output_type": "execute_result"
    }
   ],
   "source": [
    "x4 = typemin(Int32)"
   ]
  },
  {
   "cell_type": "markdown",
   "id": "f766be0b",
   "metadata": {},
   "source": [
    "### 最大値を超えた場合、どうなるのか?\n",
    "- Juliaの場合"
   ]
  },
  {
   "cell_type": "code",
   "execution_count": 19,
   "id": "817859ce",
   "metadata": {},
   "outputs": [
    {
     "data": {
      "text/plain": [
       "-9223372036854775808"
      ]
     },
     "execution_count": 19,
     "metadata": {},
     "output_type": "execute_result"
    }
   ],
   "source": [
    "x5 = x1 + 1"
   ]
  },
  {
   "cell_type": "markdown",
   "id": "e3715a9e",
   "metadata": {},
   "source": [
    "### 浮動小数点の最大値・最小値"
   ]
  },
  {
   "cell_type": "code",
   "execution_count": 20,
   "id": "36a617d2",
   "metadata": {},
   "outputs": [
    {
     "data": {
      "text/plain": [
       "Inf"
      ]
     },
     "execution_count": 20,
     "metadata": {},
     "output_type": "execute_result"
    }
   ],
   "source": [
    "y1 = typemax(Float64)"
   ]
  },
  {
   "cell_type": "code",
   "execution_count": 21,
   "id": "8e6808e0",
   "metadata": {},
   "outputs": [
    {
     "data": {
      "text/plain": [
       "Inf32"
      ]
     },
     "execution_count": 21,
     "metadata": {},
     "output_type": "execute_result"
    }
   ],
   "source": [
    "y2 = typemax(Float32)"
   ]
  },
  {
   "cell_type": "code",
   "execution_count": 22,
   "id": "4f7a84f1",
   "metadata": {},
   "outputs": [
    {
     "data": {
      "text/plain": [
       "-Inf"
      ]
     },
     "execution_count": 22,
     "metadata": {},
     "output_type": "execute_result"
    }
   ],
   "source": [
    "y3 = typemin(Float64)"
   ]
  },
  {
   "cell_type": "code",
   "execution_count": 23,
   "id": "0c49fa4a",
   "metadata": {},
   "outputs": [
    {
     "data": {
      "text/plain": [
       "-Inf32"
      ]
     },
     "execution_count": 23,
     "metadata": {},
     "output_type": "execute_result"
    }
   ],
   "source": [
    "y4 = typemin(Float32)"
   ]
  },
  {
   "cell_type": "code",
   "execution_count": 24,
   "id": "c51d4e87",
   "metadata": {},
   "outputs": [
    {
     "data": {
      "text/plain": [
       "Inf"
      ]
     },
     "execution_count": 24,
     "metadata": {},
     "output_type": "execute_result"
    }
   ],
   "source": [
    "y5 = y1 + 1.0"
   ]
  },
  {
   "cell_type": "markdown",
   "id": "1249d358-e62f-4520-9158-483fd6623c43",
   "metadata": {},
   "source": [
    "---"
   ]
  },
  {
   "cell_type": "markdown",
   "id": "caa37e55-f695-4759-8f75-9d46ed5bf7df",
   "metadata": {},
   "source": [
    "## 丸め誤差(Rounding Error)\n",
    "- 数学的な概念とコンピュータの表現は必ずしも一対一で対応していない\n",
    "- コンピュータ上、例えば1/3を正確には表現出来ない\n",
    "    - 本来は.3333...が無限に続くけどコンピュータ上はどこかで丸めている\n",
    "    - **丸め誤差 (rounding error)** と呼ぶ"
   ]
  },
  {
   "cell_type": "code",
   "execution_count": 25,
   "id": "f65632a1-8d34-4c2d-a98b-cc7c7bf7f5eb",
   "metadata": {},
   "outputs": [
    {
     "data": {
      "text/plain": [
       "0.3333333333333333"
      ]
     },
     "execution_count": 25,
     "metadata": {},
     "output_type": "execute_result"
    }
   ],
   "source": [
    "a = 1/3"
   ]
  },
  {
   "cell_type": "markdown",
   "id": "a68eb523-c528-4225-bbd6-486a6ff1340e",
   "metadata": {},
   "source": [
    "- Juliaではうまいことやっていて3をかけると1に戻るようになっているみたい\n",
    "    - 細かい仕組みは技術書を確認しましょう"
   ]
  },
  {
   "cell_type": "code",
   "execution_count": 26,
   "id": "a895f258-d205-442d-839c-bb89760b25c6",
   "metadata": {},
   "outputs": [
    {
     "data": {
      "text/plain": [
       "true"
      ]
     },
     "execution_count": 26,
     "metadata": {},
     "output_type": "execute_result"
    }
   ],
   "source": [
    "b = a*3\n",
    "b == 1.0 # bが1.0と等しいかをチェック"
   ]
  },
  {
   "cell_type": "code",
   "execution_count": 27,
   "id": "a6022b15-b087-418d-8cda-4f6b8a3c2277",
   "metadata": {},
   "outputs": [
    {
     "data": {
      "text/plain": [
       "0.14285714285714285"
      ]
     },
     "execution_count": 27,
     "metadata": {},
     "output_type": "execute_result"
    }
   ],
   "source": [
    "c = 1/7 # 同じく循環小数"
   ]
  },
  {
   "cell_type": "markdown",
   "id": "970957b8-7375-4574-80a7-e797ee8ac502",
   "metadata": {},
   "source": [
    "* 有理数を扱いたい場合、Juliaは**Rational**という特別な型を用意している\n",
    "    * 経済学ではそんなに使いみちがなさそうだけど..."
   ]
  },
  {
   "cell_type": "code",
   "execution_count": 28,
   "id": "7df79c5e-f0a1-4627-826a-2578ccddc74f",
   "metadata": {},
   "outputs": [
    {
     "data": {
      "text/plain": [
       "1//7"
      ]
     },
     "execution_count": 28,
     "metadata": {},
     "output_type": "execute_result"
    }
   ],
   "source": [
    "d = 1//7"
   ]
  },
  {
   "cell_type": "code",
   "execution_count": 29,
   "id": "3404b02a-fb38-4fc5-bd10-c1f3739a1bec",
   "metadata": {},
   "outputs": [
    {
     "data": {
      "text/plain": [
       "Rational{Int64}"
      ]
     },
     "execution_count": 29,
     "metadata": {},
     "output_type": "execute_result"
    }
   ],
   "source": [
    "typeof(d)"
   ]
  },
  {
   "cell_type": "markdown",
   "id": "8198c19f-0157-4af0-bd2f-bfefaf2109f2",
   "metadata": {},
   "source": [
    "---"
   ]
  },
  {
   "cell_type": "markdown",
   "id": "c3e90796-641f-4ca2-bd88-ebdc814cca7f",
   "metadata": {},
   "source": [
    "## 桁落ち(Truncation Error)\n",
    "- 桁落ちとはなにか？\n",
    "    - とても大きい数字(例：1234567890123456789)にとても小さい数字(例：0.000000000000000001)を足すと\n",
    "    - 1234567890123456789.000000000000000001になるはず\n",
    "    - しかし、数字の情報量が多すぎてコンピュータ上で正確に表現をすることが出来ず、一部を端折ってしまう\n",
    "    - **大きい数字と小さい数字を混ぜた計算**には注意が必要\n",
    "        - 重要：足し合わせる場合、小さい値から積み上げていくと誤差を減らすことが出来る\n",
    "        - ⬆の方法ですべて解決できるわけではない\n",
    "- クアルテローニ他(2014)、p.8より例示：\n",
    "$$\n",
    "    \\frac{(1+x)-1}{x}\n",
    "$$\n",
    "を計算してみる\n",
    "* 当然、答えは1のはずだけど...⬇\n",
    "    * 10%もズレが生じている\n",
    "* **教訓**：2つの変数の桁が大幅に異なる場合、注意が必要"
   ]
  },
  {
   "cell_type": "code",
   "execution_count": 30,
   "id": "7518e65e-1b94-4b1b-a65a-925ccfe2d0eb",
   "metadata": {},
   "outputs": [
    {
     "data": {
      "text/plain": [
       "1234567890123456789"
      ]
     },
     "execution_count": 30,
     "metadata": {},
     "output_type": "execute_result"
    }
   ],
   "source": [
    "a = 1234567890123456789"
   ]
  },
  {
   "cell_type": "code",
   "execution_count": 31,
   "id": "9eb0358f-d713-43d4-975d-e5da82a0c584",
   "metadata": {},
   "outputs": [
    {
     "data": {
      "text/plain": [
       "1.0e-18"
      ]
     },
     "execution_count": 31,
     "metadata": {},
     "output_type": "execute_result"
    }
   ],
   "source": [
    "b = 0.000000000000000001"
   ]
  },
  {
   "cell_type": "code",
   "execution_count": 32,
   "id": "40c0a058-13d8-4384-a38c-f6a2f6b6d7e2",
   "metadata": {},
   "outputs": [
    {
     "data": {
      "text/plain": [
       "1.2345678901234568e18"
      ]
     },
     "execution_count": 32,
     "metadata": {},
     "output_type": "execute_result"
    }
   ],
   "source": [
    "c = a + b"
   ]
  },
  {
   "cell_type": "code",
   "execution_count": 33,
   "id": "f893988d-c58f-4be0-9f58-a789ae1cb0c6",
   "metadata": {},
   "outputs": [
    {
     "data": {
      "text/plain": [
       "1.1102230246251565"
      ]
     },
     "execution_count": 33,
     "metadata": {},
     "output_type": "execute_result"
    }
   ],
   "source": [
    "x = 0.000000000000001\n",
    "((1+x)-1)/x"
   ]
  },
  {
   "cell_type": "markdown",
   "id": "ba5600a4-10bf-48d0-bb28-03b6487df34d",
   "metadata": {},
   "source": [
    "---"
   ]
  },
  {
   "cell_type": "markdown",
   "id": "d32bd169-38c9-4b2a-8509-e4d77bf4bdc3",
   "metadata": {},
   "source": [
    "## 参考文献\n",
    "* A.クアルテローニ/F.サレリ/P.ジェルヴァシオ(2014)『MATLABとOctaveによる科学技術計算』丸善出版\n",
    "* 石井一夫(2021)『基礎から学ぶJulia』SCC"
   ]
  },
  {
   "cell_type": "code",
   "execution_count": null,
   "id": "a058f866-e8ea-4f1c-a1a2-62ebe6d80fe2",
   "metadata": {},
   "outputs": [],
   "source": []
  }
 ],
 "metadata": {
  "kernelspec": {
   "display_name": "Julia 1.7.2",
   "language": "julia",
   "name": "julia-1.7"
  },
  "language_info": {
   "file_extension": ".jl",
   "mimetype": "application/julia",
   "name": "julia",
   "version": "1.7.3"
  }
 },
 "nbformat": 4,
 "nbformat_minor": 5
}
